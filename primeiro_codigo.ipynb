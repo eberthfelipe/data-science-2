{
  "nbformat": 4,
  "nbformat_minor": 0,
  "metadata": {
    "colab": {
      "name": "primeiro-codigo.ipynb",
      "provenance": [],
      "authorship_tag": "ABX9TyPujwXcdHKEigf6mw+sJDsQ",
      "include_colab_link": true
    },
    "kernelspec": {
      "name": "python3",
      "display_name": "Python 3"
    }
  },
  "cells": [
    {
      "cell_type": "markdown",
      "metadata": {
        "id": "view-in-github",
        "colab_type": "text"
      },
      "source": [
        "<a href=\"https://colab.research.google.com/github/eberthfelipe/data-science-2/blob/master/primeiro_codigo.ipynb\" target=\"_parent\"><img src=\"https://colab.research.google.com/assets/colab-badge.svg\" alt=\"Open In Colab\"/></a>"
      ]
    },
    {
      "cell_type": "code",
      "metadata": {
        "id": "frBiKHx1ownX",
        "outputId": "75fdab25-f276-46c1-a462-a649300a740d",
        "colab": {
          "base_uri": "https://localhost:8080/"
        }
      },
      "source": [
        "import time\n",
        "print(time.ctime())"
      ],
      "execution_count": 4,
      "outputs": [
        {
          "output_type": "stream",
          "text": [
            "Sat Nov  7 12:37:09 2020\n"
          ],
          "name": "stdout"
        }
      ]
    },
    {
      "cell_type": "code",
      "metadata": {
        "id": "eVxaxA_ptGJo",
        "outputId": "b26cb481-8076-461a-b91c-b87fd14aa112",
        "colab": {
          "base_uri": "https://localhost:8080/"
        }
      },
      "source": [
        "time.sleep(5)\n",
        "print(time.ctime())"
      ],
      "execution_count": 5,
      "outputs": [
        {
          "output_type": "stream",
          "text": [
            "Sat Nov  7 12:37:14 2020\n"
          ],
          "name": "stdout"
        }
      ]
    },
    {
      "cell_type": "markdown",
      "metadata": {
        "id": "UacgcJwgzfh6"
      },
      "source": [
        "O texto pode ficar em **negrito**\n",
        "\n",
        "O texto também pode ficar em *itálico*\n",
        "\n",
        "~riscado~"
      ]
    },
    {
      "cell_type": "markdown",
      "metadata": {
        "id": "5roCtEBA0-xL"
      },
      "source": [
        "**Equações matemáticaa**\n",
        "\n",
        "$\\sqrt{3x-1}+(1+x)^2$\n",
        "\n",
        "$e^x=\\sum_{i=0}^\\infty \\frac{1}{i!}x^i$"
      ]
    }
  ]
}