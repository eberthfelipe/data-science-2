{
 "cells": [
  {
   "cell_type": "markdown",
   "metadata": {
    "id": "rFR8qklZ9v0h"
   },
   "source": [
    "# Exercício 1\n"
   ]
  },
  {
   "cell_type": "code",
   "execution_count": 35,
   "metadata": {
    "colab": {
     "background_save": true
    },
    "id": "GbIbcpSRMl_V"
   },
   "outputs": [],
   "source": [
    "# Bibliotecas que necessárias\n",
    "import numpy as np\n",
    "import statistics as st\n",
    "import seaborn as sns\n",
    "from scipy import stats\n",
    "from collections import Counter\n",
    "import matplotlib as plt\n",
    "from scipy.stats import binom, nbinom, poisson, uniform, expon, norm \n",
    "import matplotlib.pyplot as plt\n"
   ]
  },
  {
   "cell_type": "code",
   "execution_count": 29,
   "metadata": {
    "id": "VAOg5-SmieoD"
   },
   "outputs": [],
   "source": [
    "# Criação das listas dos times PSG e Real Madrid\n",
    "psg = [9, 10, 12, 13, 14, 14, 16, 18, 23, 37]\n",
    "real = [7, 9, 9, 9, 10, 11, 12, 12, 15, 15]\n"
   ]
  },
  {
   "cell_type": "code",
   "execution_count": 3,
   "metadata": {
    "id": "bZJqSWsJ3msd"
   },
   "outputs": [
    {
     "name": "stdout",
     "output_type": "stream",
     "text": [
      "Média aritmética PSG:  16.6\n",
      "Média aritmética REAL:  10.9\n"
     ]
    }
   ],
   "source": [
    "# Médias\n",
    "print('Média aritmética PSG: ', st.mean(psg))\n",
    "print('Média aritmética REAL: ', st.mean(real))\n",
    "#print('Média geométrica: ', st.geometric_mean(turma_a))\n",
    "#print('Média harmonica: ', round(st.harmonic_mean(turma_a),2))"
   ]
  },
  {
   "cell_type": "code",
   "execution_count": 4,
   "metadata": {
    "colab": {
     "base_uri": "https://localhost:8080/"
    },
    "id": "Vn1cd76f3_xF",
    "outputId": "86a0c80f-0de4-486a-9141-5b6a4dd9a552"
   },
   "outputs": [
    {
     "name": "stdout",
     "output_type": "stream",
     "text": [
      "Mediana PSG:  14.0\n",
      "Mediana REAL:  10.5\n"
     ]
    }
   ],
   "source": [
    "# Mediana\n",
    "print('Mediana PSG: ', st.median(psg))\n",
    "print('Mediana REAL: ', st.median(real))"
   ]
  },
  {
   "cell_type": "code",
   "execution_count": 5,
   "metadata": {
    "colab": {
     "base_uri": "https://localhost:8080/",
     "height": 333
    },
    "id": "Mfnkbw8z4xLX",
    "outputId": "7ea9fbd2-2371-4fa7-d046-ee89d53321d5"
   },
   "outputs": [
    {
     "name": "stdout",
     "output_type": "stream",
     "text": [
      "Moda PSG:  14\n",
      "Moda REAL:  9\n"
     ]
    }
   ],
   "source": [
    "# Moda\n",
    "print('Moda PSG: ', st.mode(psg))\n",
    "print('Moda REAL: ', st.mode(real))"
   ]
  },
  {
   "cell_type": "code",
   "execution_count": 7,
   "metadata": {
    "colab": {
     "base_uri": "https://localhost:8080/"
    },
    "id": "1HU3_1w_6AMN",
    "outputId": "5615b0bc-1154-4bd6-8f0c-0f4714b8b4d3"
   },
   "outputs": [
    {
     "name": "stdout",
     "output_type": "stream",
     "text": [
      "Variancia PSG:  60.84\n",
      "Desvio PSG:  7.8\n",
      "\n",
      "\n",
      "Variancia REAL: 6.99\n",
      "Desvio REAL:  2.51\n"
     ]
    }
   ],
   "source": [
    "# Variancia\n",
    "print('Variancia PSG: ', round(st.pvariance(psg),2))\n",
    "print('Desvio PSG: ', round(st.pstdev(psg),2))\n",
    "print('\\n')\n",
    "print('Variancia REAL:', round(st.variance(real),2))\n",
    "print('Desvio REAL: ', round(st.pstdev(real),2))"
   ]
  },
  {
   "cell_type": "code",
   "execution_count": 9,
   "metadata": {
    "colab": {
     "base_uri": "https://localhost:8080/"
    },
    "id": "6sDCqiGH8CyQ",
    "outputId": "b020162d-8701-4627-8ec5-6bc3d1b22a7e"
   },
   "outputs": [
    {
     "name": "stdout",
     "output_type": "stream",
     "text": [
      "Coeficiente PSG:  49.53\n",
      "Coeficiente REAL:  24.25\n"
     ]
    }
   ],
   "source": [
    "# Coeficiente de variação\n",
    "\n",
    "def cv(n):\n",
    "  return round(100*st.stdev(n)/st.mean(n), 2)\n",
    "\n",
    "print('Coeficiente PSG: ', cv(psg))\n",
    "print('Coeficiente REAL: ', cv(real))"
   ]
  },
  {
   "cell_type": "code",
   "execution_count": 30,
   "metadata": {
    "colab": {
     "base_uri": "https://localhost:8080/"
    },
    "id": "QR9ydvnZ8zjK",
    "outputId": "639a50b0-d76e-42ac-b2ff-22a86c20bcd2"
   },
   "outputs": [
    {
     "name": "stdout",
     "output_type": "stream",
     "text": [
      "Quartil PSG:  [ 9.   12.25 14.   17.5  37.  ]\n",
      "Quartil REAL:  [ 7.   9.  10.5 12.  15. ]\n"
     ]
    }
   ],
   "source": [
    "# Quartil\n",
    "\n",
    "print('Quartil PSG: ', np.quantile(psg, [0, 0.25, 0.5, 0.75, 1]))\n",
    "print('Quartil REAL: ', np.quantile(real, [0, 0.25, 0.5, 0.75, 1]))"
   ]
  },
  {
   "cell_type": "code",
   "execution_count": 13,
   "metadata": {
    "colab": {
     "base_uri": "https://localhost:8080/"
    },
    "id": "ZeusuOks9mGI",
    "outputId": "81820e50-5350-4d13-f98a-932741e3c6fb"
   },
   "outputs": [
    {
     "data": {
      "text/plain": [
       "DescribeResult(nobs=10, minmax=(9, 37), mean=16.6, variance=67.6, skewness=1.65392201486876, kurtosis=1.8848131419820078)"
      ]
     },
     "execution_count": 13,
     "metadata": {},
     "output_type": "execute_result"
    }
   ],
   "source": [
    "stats.describe(psg)"
   ]
  },
  {
   "cell_type": "code",
   "execution_count": 14,
   "metadata": {},
   "outputs": [
    {
     "data": {
      "text/plain": [
       "DescribeResult(nobs=10, minmax=(7, 15), mean=10.9, variance=6.98888888888889, skewness=0.379582186828255, kurtosis=-0.8789432844422094)"
      ]
     },
     "execution_count": 14,
     "metadata": {},
     "output_type": "execute_result"
    }
   ],
   "source": [
    "stats.describe(real)"
   ]
  },
  {
   "cell_type": "code",
   "execution_count": 23,
   "metadata": {
    "colab": {
     "base_uri": "https://localhost:8080/",
     "height": 339
    },
    "id": "dmwqFB9K9z3l",
    "outputId": "fcc4b99c-96b5-45d2-d5e1-547e01ef2dd7"
   },
   "outputs": [
    {
     "data": {
      "text/plain": [
       "Text(0.5, 1.0, 'PSG')"
      ]
     },
     "execution_count": 23,
     "metadata": {},
     "output_type": "execute_result"
    },
    {
     "data": {
      "image/png": "[encoded data removed]",
      "text/plain": [
       "<Figure size 432x288 with 1 Axes>"
      ]
     },
     "metadata": {
      "needs_background": "light"
     },
     "output_type": "display_data"
    }
   ],
   "source": [
    "sns.boxplot(psg).set_title(\"PSG\")"
   ]
  },
  {
   "cell_type": "code",
   "execution_count": 31,
   "metadata": {
    "id": "4LrDSsfFSssS"
   },
   "outputs": [
    {
     "data": {
      "text/plain": [
       "Text(0.5, 1.0, 'Real Madrid')"
      ]
     },
     "execution_count": 31,
     "metadata": {},
     "output_type": "execute_result"
    },
    {
     "data": {
      "image/png": "[encoded data removed]",
      "text/plain": [
       "<Figure size 432x288 with 1 Axes>"
      ]
     },
     "metadata": {
      "needs_background": "light"
     },
     "output_type": "display_data"
    }
   ],
   "source": [
    "sns.boxplot(real).set_title(\"Real Madrid\")"
   ]
  },
  {
   "cell_type": "code",
   "execution_count": 37,
   "metadata": {},
   "outputs": [
    {
     "name": "stdout",
     "output_type": "stream",
     "text": [
      "P(>=20%): 0.07019082639999996\n"
     ]
    }
   ],
   "source": [
    "# BINOMIAL - Q8\n",
    "# Suponha que 10% dos clientes que compram crédito em uma loja deixam de pagar regularmente suas contas. \n",
    "# Se num particular dia, a loja vende a crédito para 10 pessoas, \n",
    "# qual a probabilidade de que mais de 20% delas deixem de pagar regularmente as contas?\n",
    "\n",
    "print(\"P(>=20%):\",1-binom.cdf(2,10,0.1))"
   ]
  },
  {
   "cell_type": "code",
   "execution_count": 58,
   "metadata": {},
   "outputs": [
    {
     "name": "stdout",
     "output_type": "stream",
     "text": [
      "P(x>=10): 0.013695268598382881\n"
     ]
    }
   ],
   "source": [
    "# POISSON - Q10\n",
    "# Um servidor recebe, em média, 300 requisições na hora de maior movimento, e pode processar, no máximo, dez requisições p/min. \n",
    "# Utilizando a distribuição de Poisson, qual a probabilidade de que a capacidade do servidor seja ultrapassado em dado segundo\n",
    "# do horário de pico?\n",
    "\n",
    "print(\"P(x>=10):\",1-poisson.cdf(10,300/60))"
   ]
  },
  {
   "cell_type": "markdown",
   "metadata": {},
   "source": [
    "# ATIVIDADE"
   ]
  },
  {
   "attachments": {
    "image.png": {
     "image/png": "[encoded data removed]"
    }
   },
   "cell_type": "markdown",
   "metadata": {},
   "source": [
    "Q1. Qual a simetria dos salários do Real?\n",
    "\n",
    "    C) Simétrica\n",
    "\n",
    "Q2. Em relação a variabilidade dos salários dos dois times, podemos concluir que:\n",
    "\n",
    "    D) Tanto a média quanto o coeficiente de variação são menores no time do Real\n",
    "\n",
    "Q3. Em qual(is) distribuição(ões) dos salários podemos considerar a ocorrência de outliers?\n",
    "    \n",
    "    A) PSG\n",
    "\n",
    "Q4. A distribuição de frequência apresenta:\n",
    "\n",
    "    A) Quatro modas, quatro medias e quatro medianas\n",
    "    \n",
    "Q5. Com base nos resultados podemos concluir que:\n",
    "\n",
    "    B) O primeiro e o terceiro quartil do curso de direito são iguais\n",
    "    \n",
    "Q6. Após determinado período de testes, observou-se que o procedimento X de recuperação de dados corre um risco de 2% de não se obter resultados satisfatórios. No procedimento Y, o risco cai para 1%. O risco de ambos os procedimentos apresentarem resposta insatisfatória é de 0,5%. Qual a probabilidade de pelo menos um dos procedimentos apresentar resposta insatisifatória?\n",
    "    \n",
    "    P(X ou Y) = P(x) + P(y) - P(x e y)\n",
    "    0,02 + 0,01 - 0,005 = 0,025\n",
    "    C) 2,5%\n",
    "    \n",
    "\n",
    "Q7. Um sistema tem quatro componentes que operam de forma independente, sendo que cada componente tem probabilidade 0,1 de não funcionar. O sistema é ligado da seguinte forma:\n",
    "\n",
    "![image.png](attachment:image.png)\n",
    "\n",
    "Qual a probabilidade de o sistema acima funcionar?\n",
    "\n",
    "    P((A ou C) ou (B ou D)) = P(A ou C) + P(B ou D) - P(A e B e C e D)\n",
    "    D) 0,9639\n",
    "    \n",
    "Q8. Suponha que 10% dos clientes que compram crédito em uma loja deixam de pagar regularmente suas contas. Se num particular dia, a loja vende a crédito para 10 pessoas, qual a probabilidade de que mais de 20% delas deixem de pagar regularmente as contas?\n",
    "\n",
    "    P(>=20%): 0.07019082639999996\n",
    "    B) 0,0702\n",
    "    \n",
    "Q9. Uma rede local de computadores é composta por um servidor e cinco clientes (A, B, C, D e E). Registros anteriores indicam que dos pedidos de determinado tipo de procedimento, realizados através de uma consulta, cerca de 10% vêm do cliente A, 15% do B, 15% do C, 40% do D e 20% do E. Se o pedido não for feito de forma adequada, o processamento apresentará erro. Usualmente, ocorrem os seguintes percentuais de pedidos inadequados: 1% do cliente A, 2% do cliente B, 0,5% do cliente C, 2% do cliente D e 8% do cliente E. Qual a probabilidade de o sistema apresentar erro?\n",
    "\n",
    "    A) 0,0288\n",
    "    \n",
    "Q10. Um servidor recebe, em média, 300 requisições na hora de maior movimento, e pode processar, no máximo, dez requisições por minuto. Utilizando a distribuição de Poisson, qual a probabilidade de que a capacidade do servidor seja ultrapassado em dado segundo do horário de pico?\n",
    "\n",
    "    P(x>=10): 0.013695268598382881\n",
    "    B) 0,0137"
   ]
  },
  {
   "cell_type": "code",
   "execution_count": null,
   "metadata": {},
   "outputs": [],
   "source": []
  }
 ],
 "metadata": {
  "colab": {
   "collapsed_sections": [],
   "name": "Estatistica_dc.ipynb",
   "provenance": []
  },
  "kernelspec": {
   "display_name": "Python 3",
   "language": "python",
   "name": "python3"
  },
  "language_info": {
   "codemirror_mode": {
    "name": "ipython",
    "version": 3
   },
   "file_extension": ".py",
   "mimetype": "text/x-python",
   "name": "python",
   "nbconvert_exporter": "python",
   "pygments_lexer": "ipython3",
   "version": "3.8.3"
  }
 },
 "nbformat": 4,
 "nbformat_minor": 1
}
