{
  "nbformat": 4,
  "nbformat_minor": 0,
  "metadata": {
    "colab": {
      "name": "Trabalho a04m04.ipynb",
      "provenance": [],
      "collapsed_sections": [],
      "toc_visible": true
    },
    "kernelspec": {
      "name": "python3",
      "display_name": "Python 3"
    }
  },
  "cells": [
    {
      "cell_type": "code",
      "metadata": {
        "id": "KXbu5_noMJpd"
      },
      "source": [
        "import pandas as pd\r\n",
        "import sqlite3\r\n",
        "import matplotlib.pyplot as plt\r\n",
        "import seaborn as sns"
      ],
      "execution_count": 2,
      "outputs": []
    },
    {
      "cell_type": "code",
      "metadata": {
        "id": "YyAb1szdNXhu"
      },
      "source": [
        "con = sqlite3.connect('/content/northwind_small.sqlite')\r\n",
        "\r\n",
        "str_query = ('SELECT e.FirstName, od.OrderId, od.Quantity, od.UnitPrice, od.Discount '\r\n",
        "            'FROM Employee e '\r\n",
        "            'JOIN [Order] o ON e.Id = o.EmployeeId '\r\n",
        "            'JOIN OrderDetail od ON od.OrderId = o.Id'\r\n",
        "            )"
      ],
      "execution_count": 3,
      "outputs": []
    },
    {
      "cell_type": "code",
      "metadata": {
        "colab": {
          "base_uri": "https://localhost:8080/",
          "height": 419
        },
        "id": "6UPmojAgQTQb",
        "outputId": "627fc911-1b6c-48a2-c8c9-7aa33511ca3e"
      },
      "source": [
        "df = pd.read_sql_query(str_query, con)\r\n",
        "\r\n",
        "df"
      ],
      "execution_count": 4,
      "outputs": [
        {
          "output_type": "execute_result",
          "data": {
            "text/html": [
              "<div>\n",
              "<style scoped>\n",
              "    .dataframe tbody tr th:only-of-type {\n",
              "        vertical-align: middle;\n",
              "    }\n",
              "\n",
              "    .dataframe tbody tr th {\n",
              "        vertical-align: top;\n",
              "    }\n",
              "\n",
              "    .dataframe thead th {\n",
              "        text-align: right;\n",
              "    }\n",
              "</style>\n",
              "<table border=\"1\" class=\"dataframe\">\n",
              "  <thead>\n",
              "    <tr style=\"text-align: right;\">\n",
              "      <th></th>\n",
              "      <th>FirstName</th>\n",
              "      <th>OrderId</th>\n",
              "      <th>Quantity</th>\n",
              "      <th>UnitPrice</th>\n",
              "      <th>Discount</th>\n",
              "    </tr>\n",
              "  </thead>\n",
              "  <tbody>\n",
              "    <tr>\n",
              "      <th>0</th>\n",
              "      <td>Steven</td>\n",
              "      <td>10248</td>\n",
              "      <td>12</td>\n",
              "      <td>14.00</td>\n",
              "      <td>0.00</td>\n",
              "    </tr>\n",
              "    <tr>\n",
              "      <th>1</th>\n",
              "      <td>Steven</td>\n",
              "      <td>10248</td>\n",
              "      <td>10</td>\n",
              "      <td>9.80</td>\n",
              "      <td>0.00</td>\n",
              "    </tr>\n",
              "    <tr>\n",
              "      <th>2</th>\n",
              "      <td>Steven</td>\n",
              "      <td>10248</td>\n",
              "      <td>5</td>\n",
              "      <td>34.80</td>\n",
              "      <td>0.00</td>\n",
              "    </tr>\n",
              "    <tr>\n",
              "      <th>3</th>\n",
              "      <td>Michael</td>\n",
              "      <td>10249</td>\n",
              "      <td>9</td>\n",
              "      <td>18.60</td>\n",
              "      <td>0.00</td>\n",
              "    </tr>\n",
              "    <tr>\n",
              "      <th>4</th>\n",
              "      <td>Michael</td>\n",
              "      <td>10249</td>\n",
              "      <td>40</td>\n",
              "      <td>42.40</td>\n",
              "      <td>0.00</td>\n",
              "    </tr>\n",
              "    <tr>\n",
              "      <th>...</th>\n",
              "      <td>...</td>\n",
              "      <td>...</td>\n",
              "      <td>...</td>\n",
              "      <td>...</td>\n",
              "      <td>...</td>\n",
              "    </tr>\n",
              "    <tr>\n",
              "      <th>2150</th>\n",
              "      <td>Nancy</td>\n",
              "      <td>11077</td>\n",
              "      <td>2</td>\n",
              "      <td>33.25</td>\n",
              "      <td>0.03</td>\n",
              "    </tr>\n",
              "    <tr>\n",
              "      <th>2151</th>\n",
              "      <td>Nancy</td>\n",
              "      <td>11077</td>\n",
              "      <td>1</td>\n",
              "      <td>17.00</td>\n",
              "      <td>0.00</td>\n",
              "    </tr>\n",
              "    <tr>\n",
              "      <th>2152</th>\n",
              "      <td>Nancy</td>\n",
              "      <td>11077</td>\n",
              "      <td>2</td>\n",
              "      <td>15.00</td>\n",
              "      <td>0.01</td>\n",
              "    </tr>\n",
              "    <tr>\n",
              "      <th>2153</th>\n",
              "      <td>Nancy</td>\n",
              "      <td>11077</td>\n",
              "      <td>4</td>\n",
              "      <td>7.75</td>\n",
              "      <td>0.00</td>\n",
              "    </tr>\n",
              "    <tr>\n",
              "      <th>2154</th>\n",
              "      <td>Nancy</td>\n",
              "      <td>11077</td>\n",
              "      <td>2</td>\n",
              "      <td>13.00</td>\n",
              "      <td>0.00</td>\n",
              "    </tr>\n",
              "  </tbody>\n",
              "</table>\n",
              "<p>2155 rows × 5 columns</p>\n",
              "</div>"
            ],
            "text/plain": [
              "     FirstName  OrderId  Quantity  UnitPrice  Discount\n",
              "0       Steven    10248        12      14.00      0.00\n",
              "1       Steven    10248        10       9.80      0.00\n",
              "2       Steven    10248         5      34.80      0.00\n",
              "3      Michael    10249         9      18.60      0.00\n",
              "4      Michael    10249        40      42.40      0.00\n",
              "...        ...      ...       ...        ...       ...\n",
              "2150     Nancy    11077         2      33.25      0.03\n",
              "2151     Nancy    11077         1      17.00      0.00\n",
              "2152     Nancy    11077         2      15.00      0.01\n",
              "2153     Nancy    11077         4       7.75      0.00\n",
              "2154     Nancy    11077         2      13.00      0.00\n",
              "\n",
              "[2155 rows x 5 columns]"
            ]
          },
          "metadata": {
            "tags": []
          },
          "execution_count": 4
        }
      ]
    },
    {
      "cell_type": "code",
      "metadata": {
        "colab": {
          "base_uri": "https://localhost:8080/",
          "height": 204
        },
        "id": "3fwVCZjtT1zB",
        "outputId": "d69bbdc0-da11-4f40-89eb-22dad46284eb"
      },
      "source": [
        "df['price_per_order'] = df.Quantity * df.UnitPrice * (1 - df.Discount)\r\n",
        "df.drop(['Quantity', 'UnitPrice', 'Discount'], axis=1, inplace=True)\r\n",
        "df = df.groupby(['FirstName', 'OrderId'])['price_per_order'].sum().reset_index()\r\n",
        "df.drop('OrderId', axis=1, inplace=True)\r\n",
        "\r\n",
        "df.head()"
      ],
      "execution_count": 5,
      "outputs": [
        {
          "output_type": "execute_result",
          "data": {
            "text/html": [
              "<div>\n",
              "<style scoped>\n",
              "    .dataframe tbody tr th:only-of-type {\n",
              "        vertical-align: middle;\n",
              "    }\n",
              "\n",
              "    .dataframe tbody tr th {\n",
              "        vertical-align: top;\n",
              "    }\n",
              "\n",
              "    .dataframe thead th {\n",
              "        text-align: right;\n",
              "    }\n",
              "</style>\n",
              "<table border=\"1\" class=\"dataframe\">\n",
              "  <thead>\n",
              "    <tr style=\"text-align: right;\">\n",
              "      <th></th>\n",
              "      <th>FirstName</th>\n",
              "      <th>price_per_order</th>\n",
              "    </tr>\n",
              "  </thead>\n",
              "  <tbody>\n",
              "    <tr>\n",
              "      <th>0</th>\n",
              "      <td>Andrew</td>\n",
              "      <td>1176.0</td>\n",
              "    </tr>\n",
              "    <tr>\n",
              "      <th>1</th>\n",
              "      <td>Andrew</td>\n",
              "      <td>1200.8</td>\n",
              "    </tr>\n",
              "    <tr>\n",
              "      <th>2</th>\n",
              "      <td>Andrew</td>\n",
              "      <td>613.2</td>\n",
              "    </tr>\n",
              "    <tr>\n",
              "      <th>3</th>\n",
              "      <td>Andrew</td>\n",
              "      <td>121.6</td>\n",
              "    </tr>\n",
              "    <tr>\n",
              "      <th>4</th>\n",
              "      <td>Andrew</td>\n",
              "      <td>608.0</td>\n",
              "    </tr>\n",
              "  </tbody>\n",
              "</table>\n",
              "</div>"
            ],
            "text/plain": [
              "  FirstName  price_per_order\n",
              "0    Andrew           1176.0\n",
              "1    Andrew           1200.8\n",
              "2    Andrew            613.2\n",
              "3    Andrew            121.6\n",
              "4    Andrew            608.0"
            ]
          },
          "metadata": {
            "tags": []
          },
          "execution_count": 5
        }
      ]
    },
    {
      "cell_type": "code",
      "metadata": {
        "colab": {
          "base_uri": "https://localhost:8080/",
          "height": 345
        },
        "id": "sC_Qrn1OXX9G",
        "outputId": "d8497123-feb7-421e-a89a-af8b077ff3be"
      },
      "source": [
        "total_sell = df['price_per_order'].sum()\r\n",
        "df_sum = df[['FirstName', 'price_per_order']].groupby(['FirstName']).sum().reset_index()\r\n",
        "df_sum['Percentual'] = df_sum['price_per_order']/total_sell*100\r\n",
        "print(total_sell)\r\n",
        "\r\n",
        "df_sum\r\n"
      ],
      "execution_count": 6,
      "outputs": [
        {
          "output_type": "stream",
          "text": [
            "1265793.0395\n"
          ],
          "name": "stdout"
        },
        {
          "output_type": "execute_result",
          "data": {
            "text/html": [
              "<div>\n",
              "<style scoped>\n",
              "    .dataframe tbody tr th:only-of-type {\n",
              "        vertical-align: middle;\n",
              "    }\n",
              "\n",
              "    .dataframe tbody tr th {\n",
              "        vertical-align: top;\n",
              "    }\n",
              "\n",
              "    .dataframe thead th {\n",
              "        text-align: right;\n",
              "    }\n",
              "</style>\n",
              "<table border=\"1\" class=\"dataframe\">\n",
              "  <thead>\n",
              "    <tr style=\"text-align: right;\">\n",
              "      <th></th>\n",
              "      <th>FirstName</th>\n",
              "      <th>price_per_order</th>\n",
              "      <th>Percentual</th>\n",
              "    </tr>\n",
              "  </thead>\n",
              "  <tbody>\n",
              "    <tr>\n",
              "      <th>0</th>\n",
              "      <td>Andrew</td>\n",
              "      <td>166537.7550</td>\n",
              "      <td>13.156792</td>\n",
              "    </tr>\n",
              "    <tr>\n",
              "      <th>1</th>\n",
              "      <td>Anne</td>\n",
              "      <td>77308.0665</td>\n",
              "      <td>6.107481</td>\n",
              "    </tr>\n",
              "    <tr>\n",
              "      <th>2</th>\n",
              "      <td>Janet</td>\n",
              "      <td>202812.8430</td>\n",
              "      <td>16.022591</td>\n",
              "    </tr>\n",
              "    <tr>\n",
              "      <th>3</th>\n",
              "      <td>Laura</td>\n",
              "      <td>126862.2775</td>\n",
              "      <td>10.022355</td>\n",
              "    </tr>\n",
              "    <tr>\n",
              "      <th>4</th>\n",
              "      <td>Margaret</td>\n",
              "      <td>232890.8460</td>\n",
              "      <td>18.398809</td>\n",
              "    </tr>\n",
              "    <tr>\n",
              "      <th>5</th>\n",
              "      <td>Michael</td>\n",
              "      <td>73913.1295</td>\n",
              "      <td>5.839274</td>\n",
              "    </tr>\n",
              "    <tr>\n",
              "      <th>6</th>\n",
              "      <td>Nancy</td>\n",
              "      <td>192107.6045</td>\n",
              "      <td>15.176857</td>\n",
              "    </tr>\n",
              "    <tr>\n",
              "      <th>7</th>\n",
              "      <td>Robert</td>\n",
              "      <td>124568.2350</td>\n",
              "      <td>9.841122</td>\n",
              "    </tr>\n",
              "    <tr>\n",
              "      <th>8</th>\n",
              "      <td>Steven</td>\n",
              "      <td>68792.2825</td>\n",
              "      <td>5.434718</td>\n",
              "    </tr>\n",
              "  </tbody>\n",
              "</table>\n",
              "</div>"
            ],
            "text/plain": [
              "  FirstName  price_per_order  Percentual\n",
              "0    Andrew      166537.7550   13.156792\n",
              "1      Anne       77308.0665    6.107481\n",
              "2     Janet      202812.8430   16.022591\n",
              "3     Laura      126862.2775   10.022355\n",
              "4  Margaret      232890.8460   18.398809\n",
              "5   Michael       73913.1295    5.839274\n",
              "6     Nancy      192107.6045   15.176857\n",
              "7    Robert      124568.2350    9.841122\n",
              "8    Steven       68792.2825    5.434718"
            ]
          },
          "metadata": {
            "tags": []
          },
          "execution_count": 6
        }
      ]
    },
    {
      "cell_type": "code",
      "metadata": {
        "colab": {
          "base_uri": "https://localhost:8080/",
          "height": 345
        },
        "id": "Tk6e-j1_fg6k",
        "outputId": "0f08a381-ac4a-48bf-9bcf-3a1bf0d89b4d"
      },
      "source": [
        "total_pedidos = df['price_per_order'].count()\r\n",
        "df_count = df[['FirstName', 'price_per_order']].groupby(['FirstName']).count().reset_index()\r\n",
        "df_count['Percentual'] = df_count['price_per_order']/df.shape[0]*100\r\n",
        "print(df.shape[0])\r\n",
        "\r\n",
        "df_count.columns = ['Vendedor(a)', 'Ordens Emitidas', 'Percentual']\r\n",
        "df_count"
      ],
      "execution_count": 10,
      "outputs": [
        {
          "output_type": "stream",
          "text": [
            "830\n"
          ],
          "name": "stdout"
        },
        {
          "output_type": "execute_result",
          "data": {
            "text/html": [
              "<div>\n",
              "<style scoped>\n",
              "    .dataframe tbody tr th:only-of-type {\n",
              "        vertical-align: middle;\n",
              "    }\n",
              "\n",
              "    .dataframe tbody tr th {\n",
              "        vertical-align: top;\n",
              "    }\n",
              "\n",
              "    .dataframe thead th {\n",
              "        text-align: right;\n",
              "    }\n",
              "</style>\n",
              "<table border=\"1\" class=\"dataframe\">\n",
              "  <thead>\n",
              "    <tr style=\"text-align: right;\">\n",
              "      <th></th>\n",
              "      <th>Vendedor(a)</th>\n",
              "      <th>Ordens Emitidas</th>\n",
              "      <th>Percentual</th>\n",
              "    </tr>\n",
              "  </thead>\n",
              "  <tbody>\n",
              "    <tr>\n",
              "      <th>0</th>\n",
              "      <td>Andrew</td>\n",
              "      <td>96</td>\n",
              "      <td>11.566265</td>\n",
              "    </tr>\n",
              "    <tr>\n",
              "      <th>1</th>\n",
              "      <td>Anne</td>\n",
              "      <td>43</td>\n",
              "      <td>5.180723</td>\n",
              "    </tr>\n",
              "    <tr>\n",
              "      <th>2</th>\n",
              "      <td>Janet</td>\n",
              "      <td>127</td>\n",
              "      <td>15.301205</td>\n",
              "    </tr>\n",
              "    <tr>\n",
              "      <th>3</th>\n",
              "      <td>Laura</td>\n",
              "      <td>104</td>\n",
              "      <td>12.530120</td>\n",
              "    </tr>\n",
              "    <tr>\n",
              "      <th>4</th>\n",
              "      <td>Margaret</td>\n",
              "      <td>156</td>\n",
              "      <td>18.795181</td>\n",
              "    </tr>\n",
              "    <tr>\n",
              "      <th>5</th>\n",
              "      <td>Michael</td>\n",
              "      <td>67</td>\n",
              "      <td>8.072289</td>\n",
              "    </tr>\n",
              "    <tr>\n",
              "      <th>6</th>\n",
              "      <td>Nancy</td>\n",
              "      <td>123</td>\n",
              "      <td>14.819277</td>\n",
              "    </tr>\n",
              "    <tr>\n",
              "      <th>7</th>\n",
              "      <td>Robert</td>\n",
              "      <td>72</td>\n",
              "      <td>8.674699</td>\n",
              "    </tr>\n",
              "    <tr>\n",
              "      <th>8</th>\n",
              "      <td>Steven</td>\n",
              "      <td>42</td>\n",
              "      <td>5.060241</td>\n",
              "    </tr>\n",
              "  </tbody>\n",
              "</table>\n",
              "</div>"
            ],
            "text/plain": [
              "  Vendedor(a)  Ordens Emitidas  Percentual\n",
              "0      Andrew               96   11.566265\n",
              "1        Anne               43    5.180723\n",
              "2       Janet              127   15.301205\n",
              "3       Laura              104   12.530120\n",
              "4    Margaret              156   18.795181\n",
              "5     Michael               67    8.072289\n",
              "6       Nancy              123   14.819277\n",
              "7      Robert               72    8.674699\n",
              "8      Steven               42    5.060241"
            ]
          },
          "metadata": {
            "tags": []
          },
          "execution_count": 10
        }
      ]
    },
    {
      "cell_type": "code",
      "metadata": {
        "colab": {
          "base_uri": "https://localhost:8080/",
          "height": 331
        },
        "id": "FkOjfm1hgGvc",
        "outputId": "ca9a390e-c43e-41d1-f9bc-40f97da63ef0"
      },
      "source": [
        "df[['FirstName', 'price_per_order']].groupby(['FirstName']).mean().plot(kind='bar')"
      ],
      "execution_count": 11,
      "outputs": [
        {
          "output_type": "execute_result",
          "data": {
            "text/plain": [
              "<matplotlib.axes._subplots.AxesSubplot at 0x7f199c4e7f90>"
            ]
          },
          "metadata": {
            "tags": []
          },
          "execution_count": 11
        },
        {
          "output_type": "display_data",
          "data": {
            "image/png": "[encoded data removed]",
            "text/plain": [
              "<Figure size 432x288 with 1 Axes>"
            ]
          },
          "metadata": {
            "tags": [],
            "needs_background": "light"
          }
        }
      ]
    },
    {
      "cell_type": "code",
      "metadata": {
        "colab": {
          "base_uri": "https://localhost:8080/",
          "height": 367
        },
        "id": "hUJncjldaMQF",
        "outputId": "635d7593-b8ca-4561-f5e4-3f577a722588"
      },
      "source": [
        "plt.figure(figsize=(15,5))\r\n",
        "sns.barplot(x='FirstName', y='Percentual', data=df_sum).set_title('Percentual de vendas por vendedor relacionado ao faturamento total')"
      ],
      "execution_count": null,
      "outputs": [
        {
          "output_type": "execute_result",
          "data": {
            "text/plain": [
              "Text(0.5, 1.0, 'Percentual de vendas por vendedor relacionado ao faturamento total')"
            ]
          },
          "metadata": {
            "tags": []
          },
          "execution_count": 30
        },
        {
          "output_type": "display_data",
          "data": {
            "image/png": "[encoded data removed]",
            "text/plain": [
              "<Figure size 1080x360 with 1 Axes>"
            ]
          },
          "metadata": {
            "tags": [],
            "needs_background": "light"
          }
        }
      ]
    },
    {
      "cell_type": "code",
      "metadata": {
        "colab": {
          "base_uri": "https://localhost:8080/",
          "height": 367
        },
        "id": "zXoj57bohgcQ",
        "outputId": "47e9d9d5-7799-44c6-ce39-28353bc5d9cf"
      },
      "source": [
        "plt.figure(figsize=(15,5))\r\n",
        "sns.barplot(x='FirstName', y='Percentual', data=df_count).set_title('Percentual de vendas por vendedor relacionada a quantidade de ordens emitidas')"
      ],
      "execution_count": null,
      "outputs": [
        {
          "output_type": "execute_result",
          "data": {
            "text/plain": [
              "Text(0.5, 1.0, 'Percentual de vendas por vendedor relacionada a quantidade de ordens emitidas')"
            ]
          },
          "metadata": {
            "tags": []
          },
          "execution_count": 38
        },
        {
          "output_type": "display_data",
          "data": {
            "image/png": "[encoded data removed]",
            "text/plain": [
              "<Figure size 1080x360 with 1 Axes>"
            ]
          },
          "metadata": {
            "tags": [],
            "needs_background": "light"
          }
        }
      ]
    },
    {
      "cell_type": "code",
      "metadata": {
        "id": "ZIRTyYNpwDeA"
      },
      "source": [
        "def percent_calc(df_aux, max):\r\n",
        "  list = df_aux.sort_values(by='Percentual', ascending=False)['Percentual']\r\n",
        "  count = 0 \r\n",
        "  sum = 0\r\n",
        "  for i in list:\r\n",
        "    count = count+1 \r\n",
        "    if (sum <= max) :\r\n",
        "      sum = i+sum\r\n",
        "    else:\r\n",
        "      break\r\n",
        "  return round(sum, 2), round(count/df_aux.shape[0]*100) \r\n"
      ],
      "execution_count": null,
      "outputs": []
    },
    {
      "cell_type": "markdown",
      "metadata": {
        "id": "BBYkoT77oMh-"
      },
      "source": [
        "#Insights\r\n"
      ]
    },
    {
      "cell_type": "code",
      "metadata": {
        "colab": {
          "base_uri": "https://localhost:8080/"
        },
        "id": "lBCt-fKCph2C",
        "outputId": "69736fcb-f679-416a-ed22-65709c04b59a"
      },
      "source": [
        "per_sell_janet_jargaret = df_sum['Percentual'][(df_sum['FirstName'] == 'Janet') | (df_sum['FirstName'] == 'Margaret')].sum()\r\n",
        "print('Percentual vendido por 20% dos vendedores: ', round(per_sell_janet_jargaret, 2))\r\n",
        "\r\n",
        "per_count_sell_janet_jargaret = df_count['Percentual'][(df_count['FirstName'] == 'Janet') | (df_count['FirstName'] == 'Margaret')].sum()\r\n",
        "print('Percentual de ordens geradas por 20% dos vendedores: ', round(per_count_sell_janet_jargaret, 2))"
      ],
      "execution_count": null,
      "outputs": [
        {
          "output_type": "stream",
          "text": [
            "Percentual vendido por 20% dos vendedores:  34.42\n",
            "Percentual de ordens geradas por 20% dos vendedores:  34.1\n"
          ],
          "name": "stdout"
        }
      ]
    },
    {
      "cell_type": "markdown",
      "metadata": {
        "id": "vJTXWMT5piNT"
      },
      "source": [
        "Com *20%* dos funcionários fatura *34,1%* das ordens, o que representa *34,42%* do total faturado;"
      ]
    },
    {
      "cell_type": "code",
      "metadata": {
        "colab": {
          "base_uri": "https://localhost:8080/"
        },
        "id": "PakJ8s67rKqL",
        "outputId": "bc04bd1f-c0c9-4a9c-8667-9ae618512abf"
      },
      "source": [
        "sum, percent_sellers = percent_calc(df_count, 80)\r\n",
        "print('{}% dos pedidos é faturado por {}% dos funcionários'.format(sum, percent_sellers))"
      ],
      "execution_count": null,
      "outputs": [
        {
          "output_type": "stream",
          "text": [
            "81.69% dos pedidos é faturado por 78% dos funcionários\n"
          ],
          "name": "stdout"
        }
      ]
    },
    {
      "cell_type": "markdown",
      "metadata": {
        "id": "1-Z_3J16vTdn"
      },
      "source": [
        "81.69% dos pedidos é faturado por 78% dos funcionários"
      ]
    },
    {
      "cell_type": "code",
      "metadata": {
        "colab": {
          "base_uri": "https://localhost:8080/"
        },
        "id": "0qNxpqiZsneM",
        "outputId": "07b3fc13-2b39-4cd3-d3ab-95b81b7c3fc9"
      },
      "source": [
        "sum, percent_sellers = percent_calc(df_sum, 60)\r\n",
        "print('{}% da receita da empresa é obtida por {}% dos vendedores'.format(sum, percent_sellers))"
      ],
      "execution_count": null,
      "outputs": [
        {
          "output_type": "stream",
          "text": [
            "62.76% da receita da empresa é obtida por 56% dos vendedores\n"
          ],
          "name": "stdout"
        }
      ]
    },
    {
      "cell_type": "markdown",
      "metadata": {
        "id": "PtzUXBSyxJO-"
      },
      "source": [
        "62.76% da receita da empresa é obtida por 56% dos vendedores"
      ]
    },
    {
      "cell_type": "markdown",
      "metadata": {
        "id": "PkPQJD1Gh1RE"
      },
      "source": [
        "As colaboradoras Margaret e Janet são as vendedoras que mais contribuem com o total faturado pela empresa, já os vendedores com a menor quantidade de ordens emitidas, Steven e Anne, estão entre os 4 maiores preços preços médios por venda, o que indica que caso eles consigam vender mais o faturamento será fortemente afetado.  "
      ]
    }
  ]
}