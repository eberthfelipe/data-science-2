{
  "nbformat": 4,
  "nbformat_minor": 0,
  "metadata": {
    "colab": {
      "name": "aula_python.ipynb",
      "provenance": [],
      "authorship_tag": "ABX9TyOAtEHmauyvzehnyCDEJNas",
      "include_colab_link": true
    },
    "kernelspec": {
      "name": "python3",
      "display_name": "Python 3"
    }
  },
  "cells": [
    {
      "cell_type": "markdown",
      "metadata": {
        "id": "view-in-github",
        "colab_type": "text"
      },
      "source": [
        "<a href=\"https://colab.research.google.com/github/eberthfelipe/data-science-2/blob/master/aula_python.ipynb\" target=\"_parent\"><img src=\"https://colab.research.google.com/assets/colab-badge.svg\" alt=\"Open In Colab\"/></a>"
      ]
    },
    {
      "cell_type": "markdown",
      "metadata": {
        "id": "SUc-yQ1YvE8W"
      },
      "source": [
        "#Interpretador"
      ]
    },
    {
      "cell_type": "code",
      "metadata": {
        "id": "Qxr2TIxKu02W",
        "outputId": "feba7f75-ffb6-41ef-a13f-8a7c110830db",
        "colab": {
          "base_uri": "https://localhost:8080/"
        }
      },
      "source": [
        "4+6"
      ],
      "execution_count": 1,
      "outputs": [
        {
          "output_type": "execute_result",
          "data": {
            "text/plain": [
              "10"
            ]
          },
          "metadata": {
            "tags": []
          },
          "execution_count": 1
        }
      ]
    },
    {
      "cell_type": "code",
      "metadata": {
        "id": "leR16vyZvVpc",
        "outputId": "a62ba72d-60d5-4878-d917-c5cbe61c9428",
        "colab": {
          "base_uri": "https://localhost:8080/"
        }
      },
      "source": [
        "x = 10\n",
        "print(x)"
      ],
      "execution_count": 2,
      "outputs": [
        {
          "output_type": "stream",
          "text": [
            "10\n"
          ],
          "name": "stdout"
        }
      ]
    }
  ]
}